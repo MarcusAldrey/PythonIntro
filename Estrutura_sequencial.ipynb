{
  "nbformat": 4,
  "nbformat_minor": 0,
  "metadata": {
    "language_info": {
      "codemirror_mode": {
        "name": "ipython",
        "version": 3
      },
      "file_extension": ".py",
      "mimetype": "text/x-python",
      "name": "python",
      "nbconvert_exporter": "python",
      "pygments_lexer": "ipython3",
      "version": "3.8.5-final"
    },
    "orig_nbformat": 2,
    "kernelspec": {
      "name": "python_defaultSpec_1599179770394",
      "display_name": "Python 3.8.5 64-bit"
    },
    "colab": {
      "name": "Estrutura_sequencial.ipynb",
      "provenance": []
    }
  },
  "cells": [
    {
      "cell_type": "markdown",
      "metadata": {
        "id": "qP2DgLwSX0xt"
      },
      "source": [
        "# Questionário disponível em https://wiki.python.org.br/EstruturaSequencial"
      ]
    },
    {
      "cell_type": "code",
      "metadata": {
        "tags": [],
        "id": "UnBW7QwbX0U1",
        "outputId": "836fc49c-09ff-47d2-e3c3-c2560bc44c00"
      },
      "source": [
        "#1 \n",
        "print(\"olá mundo\")"
      ],
      "execution_count": null,
      "outputs": [
        {
          "output_type": "stream",
          "name": "stdout",
          "text": "ola mundo\n"
        }
      ]
    },
    {
      "cell_type": "code",
      "metadata": {
        "tags": [],
        "id": "sdqvQLYUX0U2",
        "outputId": "1e8437ea-9f3a-42b8-f955-5648e732b0d8"
      },
      "source": [
        "#2\n",
        "numero = input(\"Digite um número: \")\n",
        "print(f\"O número informado foi {numero}\")"
      ],
      "execution_count": null,
      "outputs": [
        {
          "output_type": "stream",
          "name": "stdout",
          "text": "O número informado foi 45\n"
        }
      ]
    },
    {
      "cell_type": "code",
      "metadata": {
        "tags": [],
        "id": "WnGw9gnPX0U3",
        "outputId": "d4fa0961-9bc8-4db5-8c7f-5a8fe55a1143"
      },
      "source": [
        "#3\n",
        "a = int(input(\"a: \"))\n",
        "b = int(input(\"b: \"))\n",
        "print(a+b)"
      ],
      "execution_count": null,
      "outputs": [
        {
          "output_type": "stream",
          "name": "stdout",
          "text": "55\n"
        }
      ]
    },
    {
      "cell_type": "code",
      "metadata": {
        "tags": [],
        "id": "8PURV0P7X0U3",
        "outputId": "8ce29f5c-0694-4f04-e18a-6acfecc52e30"
      },
      "source": [
        "#4\n",
        "nota_1 = int(input(\"Nota 1: \"))\n",
        "nota_2 = int(input(\"Nota 2: \"))\n",
        "nota_3 = int(input(\"Nota 3: \"))\n",
        "nota_4 = int(input(\"Nota 4: \"))\n",
        "\n",
        "print((nota_1+nota_2+nota_3+nota_4)/4)\n"
      ],
      "execution_count": null,
      "outputs": [
        {
          "output_type": "stream",
          "name": "stdout",
          "text": "5.0\n"
        }
      ]
    },
    {
      "cell_type": "code",
      "metadata": {
        "tags": [],
        "id": "dgN9HOMZX0U3",
        "outputId": "9fb35a8b-8586-4307-a681-b2f9558ea390"
      },
      "source": [
        "#5\n",
        "medida_metros = float(input(\"Insira a medida em metros: \"))\n",
        "print(f\"A medida em centímetros é {medida_metros*100}cm\")"
      ],
      "execution_count": null,
      "outputs": [
        {
          "output_type": "stream",
          "name": "stdout",
          "text": "A medida em centímetros é 200.0cm\n"
        }
      ]
    },
    {
      "cell_type": "code",
      "metadata": {
        "tags": [],
        "id": "l-hYiYPcX0U4",
        "outputId": "39e31c06-3a02-4cd2-f090-290030563f0f"
      },
      "source": [
        "#6\n",
        "import math\n",
        "\n",
        "r = float(input(\"Digite o raio do círculo: \"))\n",
        "print(f\"A área do círculo é {math.pi*(r**2):.2f}\")"
      ],
      "execution_count": null,
      "outputs": [
        {
          "output_type": "stream",
          "name": "stdout",
          "text": "A área do círculo é 28.27\n"
        }
      ]
    },
    {
      "cell_type": "code",
      "metadata": {
        "tags": [],
        "id": "YWF0hjrnX0U4",
        "outputId": "ec5c4311-b38e-4ad1-aa70-cc00b5448da4"
      },
      "source": [
        "#7\n",
        "lado = float(input(\"Digite o tamanho do lado do quadrado: \"))\n",
        "print(f\"O dobro da área do quadrado é {(lado**2)*2}\")"
      ],
      "execution_count": null,
      "outputs": [
        {
          "output_type": "stream",
          "name": "stdout",
          "text": "O dobro da área do quadrado é 50.0\n"
        }
      ]
    },
    {
      "cell_type": "code",
      "metadata": {
        "tags": [],
        "id": "rx7Zs74gX0U5",
        "outputId": "f199d6ba-4d01-4962-ef89-4ef6a4dbc7a4"
      },
      "source": [
        "#8\n",
        "valor_hora = float(input(\"Digite o quanto ganha por hora: \"))\n",
        "horas_trabalhadas = int(input(\"Digite quantas horas você trabalhou: \"))\n",
        "salario = valor_hora * horas_trabalhadas\n",
        "\n",
        "print(f\"O seu salário esse mês será de R$ {salario:.2f}\")"
      ],
      "execution_count": null,
      "outputs": [
        {
          "output_type": "stream",
          "name": "stdout",
          "text": "O seu salário esse mês será de R$250.00\n"
        }
      ]
    },
    {
      "cell_type": "code",
      "metadata": {
        "tags": [],
        "id": "Uq7fvzGgX0U5",
        "outputId": "24e854bd-8da1-4d4d-8081-db8fcf4997eb"
      },
      "source": [
        "#9\n",
        "F = float(input(\"Insira a temperatura em Farentheint: \"))\n",
        "C = 5 * ((F-32) / 9)\n",
        "print(f\"A temperatura em Celsius é {C:.2f}º\")"
      ],
      "execution_count": null,
      "outputs": [
        {
          "output_type": "stream",
          "name": "stdout",
          "text": "A temperatura em Celsius é -3.89º\n"
        }
      ]
    },
    {
      "cell_type": "code",
      "metadata": {
        "tags": [],
        "id": "67GJ4mv7X0U5",
        "outputId": "46db62a3-14ce-47a2-8bb9-6129846214dd"
      },
      "source": [
        "#10\n",
        "C = float(input(\"Insira a temperatura em Celsius: \"))\n",
        "F = ((C-32) * (5/9))\n",
        "print(f\"A temperatura em Farenheint é {F:.2f}º\")\n"
      ],
      "execution_count": null,
      "outputs": [
        {
          "output_type": "stream",
          "name": "stdout",
          "text": "A temperatura em Farenheint é 51.67º\n"
        }
      ]
    },
    {
      "cell_type": "code",
      "metadata": {
        "tags": [],
        "id": "8wyIS6qIX0U6",
        "outputId": "e6f5e414-3f8d-4837-ad9a-bcf657ff370e"
      },
      "source": [
        "#11\n",
        "a = int(input(\"Insira o primeiro número inteiro: \")) \n",
        "b = int(input(\"Insira o segundo número inteiro: \")) \n",
        "c = float(input(\"Insira o numero real: \")) \n",
        "\n",
        "print(f\"o produto do dobro do primeiro com metade do segundo: {(a*2)*(b/2)}\") \n",
        "print(f\"a soma do triplo do primeiro com o terceiro: {(a*3)+b}\") \n",
        "print(f\"o terceiro elevado ao cubo: {c**3}\")"
      ],
      "execution_count": null,
      "outputs": [
        {
          "output_type": "stream",
          "name": "stdout",
          "text": "o produto do dobro do primeiro com metade do segundo: 50.0\na soma do triplo do primeiro com o terceiro: 35\no terceiro elevado ao cubo: 27.0\n"
        }
      ]
    },
    {
      "cell_type": "code",
      "metadata": {
        "tags": [],
        "id": "oyq08eojX0U6",
        "outputId": "853d9ae6-c834-43a6-bee9-15ffbbb1ace6"
      },
      "source": [
        "#12\n",
        "h = float(input(\"Insira a altura: \"))\n",
        "peso_ideal = (72.7*h) - 58\n",
        "print(f\"O peso ideal é {peso_ideal:.1f}kgs\")"
      ],
      "execution_count": null,
      "outputs": [
        {
          "output_type": "stream",
          "name": "stdout",
          "text": "O peso ideal é 70.0kgs\n"
        }
      ]
    },
    {
      "cell_type": "code",
      "metadata": {
        "tags": [],
        "id": "nevnHxbNX0U7",
        "outputId": "79a0cd8f-f8af-4d43-ffd3-e623f091f8e7"
      },
      "source": [
        "#13\n",
        "h = float(input(\"Insira a altura: \"))\n",
        "\n",
        "homens = (72.7*h) - 58\n",
        "mulheres = (62.1*h) - 44.7\n",
        "print(f\"Para homens: {homens:.1f} kg\")\n",
        "print(f\"Para mulheres: {mulheres:.1f} kg\")"
      ],
      "execution_count": null,
      "outputs": [
        {
          "output_type": "stream",
          "name": "stdout",
          "text": "Para homens: 70.0 kg\nPara mulheres: 64.6 kg\n"
        }
      ]
    },
    {
      "cell_type": "code",
      "metadata": {
        "tags": [],
        "id": "7QuwwO8gX0U7",
        "outputId": "b662e33f-645b-4104-9081-1631722cc379"
      },
      "source": [
        "#14\n",
        "peso = int(input(\"Digite o peso do peixe: \"))\n",
        "excesso = peso-50\n",
        "multa = excesso*4\n",
        "print(f\"O valor da multa é R$ {multa:.2f}\")"
      ],
      "execution_count": null,
      "outputs": [
        {
          "output_type": "stream",
          "name": "stdout",
          "text": "O valor da multa é R$ 16.00\n"
        }
      ]
    },
    {
      "cell_type": "code",
      "metadata": {
        "tags": [],
        "id": "8zESPoHDX0U7",
        "outputId": "a653face-0df5-4fcd-c9f7-42dd7d740f6f"
      },
      "source": [
        "#15\n",
        "valor_hora = float(input(\"Digite o quanto ganha por hora: \"))\n",
        "horas_trabalhadas = int(input(\"Digite quantas horas você trabalhou: \"))\n",
        "salario_bruto = valor_hora * horas_trabalhadas\n",
        "\n",
        "ir = (salario_bruto*11)/100\n",
        "inss = (salario_bruto*8)/100\n",
        "sindicato = (salario_bruto*5)/100\n",
        "salario_liquido = salario_bruto - ir - inss - sindicato\n",
        "\n",
        "print(f\"+ Salário Bruto : \\tR$ {salario_bruto:.2f}\\n\" +\n",
        "f\"- IR (11%) : \\t\\tR$ {ir:.2f}\\n\" +\n",
        "f\"- INSS (8%) : \\t\\tR$ {inss:.2f}\\n\" +\n",
        "f\"- Sindicato (5%) : \\tR$ {sindicato:.2f}\\n\" +\n",
        "f\"= Salário Liquido : \\tR$ {salario_liquido:.2f}\")\n"
      ],
      "execution_count": null,
      "outputs": [
        {
          "output_type": "stream",
          "name": "stdout",
          "text": "+ Salário Bruto : \tR$ 1000.00\n- IR (11%) : \t\tR$ 110.00\n- INSS (8%) : \t\tR$ 80.00\n- Sindicato (5%) : \tR$ 50.00\n= Salário Liquido : \tR$ 760.00\n"
        }
      ]
    },
    {
      "cell_type": "code",
      "metadata": {
        "id": "a5aHj69LX0U8"
      },
      "source": [
        "#16"
      ],
      "execution_count": null,
      "outputs": []
    },
    {
      "cell_type": "code",
      "metadata": {
        "id": "Bu6_RF_IX0U8"
      },
      "source": [
        "#17"
      ],
      "execution_count": null,
      "outputs": []
    },
    {
      "cell_type": "code",
      "metadata": {
        "id": "Ey_j7U4pX0U8"
      },
      "source": [
        "#18"
      ],
      "execution_count": null,
      "outputs": []
    }
  ]
}
