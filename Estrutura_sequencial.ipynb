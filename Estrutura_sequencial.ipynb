{
 "metadata": {
  "language_info": {
   "codemirror_mode": {
    "name": "ipython",
    "version": 3
   },
   "file_extension": ".py",
   "mimetype": "text/x-python",
   "name": "python",
   "nbconvert_exporter": "python",
   "pygments_lexer": "ipython3",
   "version": "3.8.5-final"
  },
  "orig_nbformat": 2,
  "kernelspec": {
   "name": "python_defaultSpec_1599179770394",
   "display_name": "Python 3.8.5 64-bit"
  }
 },
 "nbformat": 4,
 "nbformat_minor": 2,
 "cells": [
  {
   "cell_type": "code",
   "execution_count": 12,
   "metadata": {
    "tags": []
   },
   "outputs": [
    {
     "output_type": "stream",
     "name": "stdout",
     "text": "ola mundo\n"
    }
   ],
   "source": [
    "#1 \n",
    "print(\"olá mundo\")"
   ]
  },
  {
   "cell_type": "code",
   "execution_count": 12,
   "metadata": {
    "tags": []
   },
   "outputs": [
    {
     "output_type": "stream",
     "name": "stdout",
     "text": "O número informado foi 45\n"
    }
   ],
   "source": [
    "#2\n",
    "numero = input(\"Digite um número: \")\n",
    "print(f\"O número informado foi {numero}\")"
   ]
  },
  {
   "cell_type": "code",
   "execution_count": 8,
   "metadata": {
    "tags": []
   },
   "outputs": [
    {
     "output_type": "stream",
     "name": "stdout",
     "text": "55\n"
    }
   ],
   "source": [
    "#3\n",
    "a = int(input(\"a: \"))\n",
    "b = int(input(\"b: \"))\n",
    "print(a+b)"
   ]
  },
  {
   "cell_type": "code",
   "execution_count": 10,
   "metadata": {
    "tags": []
   },
   "outputs": [
    {
     "output_type": "stream",
     "name": "stdout",
     "text": "5.0\n"
    }
   ],
   "source": [
    "#4\n",
    "nota_1 = int(input(\"Nota 1: \"))\n",
    "nota_2 = int(input(\"Nota 2: \"))\n",
    "nota_3 = int(input(\"Nota 3: \"))\n",
    "nota_4 = int(input(\"Nota 4: \"))\n",
    "\n",
    "print((nota_1+nota_2+nota_3+nota_4)/4)\n"
   ]
  },
  {
   "cell_type": "code",
   "execution_count": 15,
   "metadata": {
    "tags": []
   },
   "outputs": [
    {
     "output_type": "stream",
     "name": "stdout",
     "text": "A medida em centímetros é 200.0cm\n"
    }
   ],
   "source": [
    "#5\n",
    "medida_metros = float(input(\"Insira a medida em metros: \"))\n",
    "print(f\"A medida em centímetros é {medida_metros*100}cm\")"
   ]
  },
  {
   "cell_type": "code",
   "execution_count": 20,
   "metadata": {
    "tags": []
   },
   "outputs": [
    {
     "output_type": "stream",
     "name": "stdout",
     "text": "A área do círculo é 28.27\n"
    }
   ],
   "source": [
    "#6\n",
    "import math\n",
    "\n",
    "r = float(input(\"Digite o raio do círculo: \"))\n",
    "print(f\"A área do círculo é {math.pi*(r**2):.2f}\")"
   ]
  },
  {
   "cell_type": "code",
   "execution_count": 22,
   "metadata": {
    "tags": []
   },
   "outputs": [
    {
     "output_type": "stream",
     "name": "stdout",
     "text": "O dobro da área do quadrado é 50.0\n"
    }
   ],
   "source": [
    "#7\n",
    "lado = float(input(\"Digite o tamanho do lado do quadrado: \"))\n",
    "print(f\"O dobro da área do quadrado é {(lado**2)*2}\")"
   ]
  },
  {
   "cell_type": "code",
   "execution_count": 23,
   "metadata": {
    "tags": []
   },
   "outputs": [
    {
     "output_type": "stream",
     "name": "stdout",
     "text": "O seu salário esse mês será de R$250.00\n"
    }
   ],
   "source": [
    "#8\n",
    "valor_hora = float(input(\"Digite o quanto ganha por hora: \"))\n",
    "horas_trabalhadas = int(input(\"Digite quantas horas você trabalhou: \"))\n",
    "salario = valor_hora * horas_trabalhadas\n",
    "\n",
    "print(f\"O seu salário esse mês será de R$ {salario:.2f}\")"
   ]
  },
  {
   "cell_type": "code",
   "execution_count": 35,
   "metadata": {
    "tags": []
   },
   "outputs": [
    {
     "output_type": "stream",
     "name": "stdout",
     "text": "A temperatura em Celsius é -3.89º\n"
    }
   ],
   "source": [
    "#9\n",
    "F = float(input(\"Insira a temperatura em Farentheint: \"))\n",
    "C = 5 * ((F-32) / 9)\n",
    "print(f\"A temperatura em Celsius é {C:.2f}º\")"
   ]
  },
  {
   "cell_type": "code",
   "execution_count": 39,
   "metadata": {
    "tags": []
   },
   "outputs": [
    {
     "output_type": "stream",
     "name": "stdout",
     "text": "A temperatura em Farenheint é 51.67º\n"
    }
   ],
   "source": [
    "#10\n",
    "C = float(input(\"Insira a temperatura em Celsius: \"))\n",
    "F = ((C-32) * (5/9))\n",
    "print(f\"A temperatura em Farenheint é {F:.2f}º\")\n"
   ]
  },
  {
   "cell_type": "code",
   "execution_count": 40,
   "metadata": {
    "tags": []
   },
   "outputs": [
    {
     "output_type": "stream",
     "name": "stdout",
     "text": "o produto do dobro do primeiro com metade do segundo: 50.0\na soma do triplo do primeiro com o terceiro: 35\no terceiro elevado ao cubo: 27.0\n"
    }
   ],
   "source": [
    "#11\n",
    "a = int(input(\"Insira o primeiro número inteiro: \")) \n",
    "b = int(input(\"Insira o segundo número inteiro: \")) \n",
    "c = float(input(\"Insira o numero real: \")) \n",
    "\n",
    "print(f\"o produto do dobro do primeiro com metade do segundo: {(a*2)*(b/2)}\") \n",
    "print(f\"a soma do triplo do primeiro com o terceiro: {(a*3)+b}\") \n",
    "print(f\"o terceiro elevado ao cubo: {c**3}\")"
   ]
  },
  {
   "cell_type": "code",
   "execution_count": 50,
   "metadata": {
    "tags": []
   },
   "outputs": [
    {
     "output_type": "stream",
     "name": "stdout",
     "text": "O peso ideal é 70.0kgs\n"
    }
   ],
   "source": [
    "#12\n",
    "h = float(input(\"Insira a altura: \"))\n",
    "peso_ideal = (72.7*h) - 58\n",
    "print(f\"O peso ideal é {peso_ideal:.1f}kgs\")"
   ]
  },
  {
   "cell_type": "code",
   "execution_count": 48,
   "metadata": {
    "tags": []
   },
   "outputs": [
    {
     "output_type": "stream",
     "name": "stdout",
     "text": "Para homens: 70.0 kg\nPara mulheres: 64.6 kg\n"
    }
   ],
   "source": [
    "#13\n",
    "h = float(input(\"Insira a altura: \"))\n",
    "\n",
    "homens = (72.7*h) - 58\n",
    "mulheres = (62.1*h) - 44.7\n",
    "print(f\"Para homens: {homens:.1f} kg\")\n",
    "print(f\"Para mulheres: {mulheres:.1f} kg\")"
   ]
  },
  {
   "cell_type": "code",
   "execution_count": 52,
   "metadata": {
    "tags": []
   },
   "outputs": [
    {
     "output_type": "stream",
     "name": "stdout",
     "text": "O valor da multa é R$ 16.00\n"
    }
   ],
   "source": [
    "#14\n",
    "peso = int(input(\"Digite o peso do peixe: \"))\n",
    "excesso = peso-50\n",
    "multa = excesso*4\n",
    "print(f\"O valor da multa é R$ {multa:.2f}\")"
   ]
  },
  {
   "cell_type": "code",
   "execution_count": 59,
   "metadata": {
    "tags": []
   },
   "outputs": [
    {
     "output_type": "stream",
     "name": "stdout",
     "text": "+ Salário Bruto : \tR$ 1000.00\n- IR (11%) : \t\tR$ 110.00\n- INSS (8%) : \t\tR$ 80.00\n- Sindicato (5%) : \tR$ 50.00\n= Salário Liquido : \tR$ 760.00\n"
    }
   ],
   "source": [
    "#15\n",
    "valor_hora = float(input(\"Digite o quanto ganha por hora: \"))\n",
    "horas_trabalhadas = int(input(\"Digite quantas horas você trabalhou: \"))\n",
    "salario_bruto = valor_hora * horas_trabalhadas\n",
    "\n",
    "ir = (salario_bruto*11)/100\n",
    "inss = (salario_bruto*8)/100\n",
    "sindicato = (salario_bruto*5)/100\n",
    "salario_liquido = salario_bruto - ir - inss - sindicato\n",
    "\n",
    "print(f\"+ Salário Bruto : \\tR$ {salario_bruto:.2f}\\n\" +\n",
    "f\"- IR (11%) : \\t\\tR$ {ir:.2f}\\n\" +\n",
    "f\"- INSS (8%) : \\t\\tR$ {inss:.2f}\\n\" +\n",
    "f\"- Sindicato (5%) : \\tR$ {sindicato:.2f}\\n\" +\n",
    "f\"= Salário Liquido : \\tR$ {salario_liquido:.2f}\")\n"
   ]
  },
  {
   "cell_type": "code",
   "execution_count": null,
   "metadata": {},
   "outputs": [],
   "source": [
    "#16"
   ]
  },
  {
   "cell_type": "code",
   "execution_count": null,
   "metadata": {},
   "outputs": [],
   "source": [
    "#17"
   ]
  },
  {
   "cell_type": "code",
   "execution_count": null,
   "metadata": {},
   "outputs": [],
   "source": [
    "#18"
   ]
  }
 ]
}